{
 "cells": [
  {
   "cell_type": "markdown",
   "metadata": {},
   "source": [
    "<h1>SGD</h1>"
   ]
  },
  {
   "cell_type": "markdown",
   "metadata": {},
   "source": [
    "아래는 변수 설정은 BGD와 동일 "
   ]
  },
  {
   "cell_type": "code",
   "execution_count": 14,
   "metadata": {},
   "outputs": [],
   "source": [
    "import numpy as np\n",
    "\n",
    "# 가상의 데이터 생성\n",
    "np.random.seed(42)    \n",
    "\n",
    "X = 2 * np.random.rand(100, 1) \n",
    "y = 4 + 3 * X + np.random.randn(100, 1) \n",
    "\n",
    "X_b = np.c_[np.ones((100, 1)), X]"
   ]
  },
  {
   "cell_type": "markdown",
   "metadata": {},
   "source": []
  },
  {
   "cell_type": "code",
   "execution_count": 15,
   "metadata": {},
   "outputs": [],
   "source": [
    "X = 2 * np.random.rand(100, 1) # 0과 2사이의 수 100개 생성(독립변수)\n",
    "y = 4 + 3 * X + np.random.randn(100, 1) # 4+3*X에 노이즈가 추가된 y생성\n",
    "X_b = np.c_[np.ones((100, 1)), X]"
   ]
  },
  {
   "cell_type": "markdown",
   "metadata": {},
   "source": [
    "| lr | n_epochs | m |\n",
    "|-----|--------------|---|\n",
    "|학습률| 전체 데이터를 몇 번의 볼것인지 | 학습에 사용된 샘플 수|\n",
    "\n"
   ]
  },
  {
   "cell_type": "code",
   "execution_count": 16,
   "metadata": {},
   "outputs": [],
   "source": [
    "# 초기값 설정\n",
    "lr = 0.1\n",
    "n_epochs = 1000\n",
    "m = 100"
   ]
  },
  {
   "cell_type": "markdown",
   "metadata": {},
   "source": []
  },
  {
   "cell_type": "code",
   "execution_count": 17,
   "metadata": {},
   "outputs": [],
   "source": [
    "t0, t1 = 5, 50  \n",
    "def learning_schedule(t):\n",
    "    return t0 / (t + t1)"
   ]
  },
  {
   "cell_type": "markdown",
   "metadata": {},
   "source": [
    "theta_sgd는 sgd가 찾고자하는 변수이다. 현재 2개의 변수를 찾아야 하기에 랜덤한 숫자로 만들어지 2 x 1 배열을 생성한다."
   ]
  },
  {
   "cell_type": "code",
   "execution_count": 18,
   "metadata": {},
   "outputs": [],
   "source": [
    "theta_sgd = np.random.randn(2, 1) \n",
    "theta_sgd_path = []"
   ]
  },
  {
   "cell_type": "markdown",
   "metadata": {},
   "source": []
  },
  {
   "cell_type": "code",
   "execution_count": 19,
   "metadata": {},
   "outputs": [
    {
     "name": "stdout",
     "output_type": "stream",
     "text": [
      "[[[0.96804447]\n",
      "  [2.43576565]]\n",
      "\n",
      " [[1.40013784]\n",
      "  [2.74406714]]\n",
      "\n",
      " [[1.93673966]\n",
      "  [3.30506592]]\n",
      "\n",
      " ...\n",
      "\n",
      " [[4.19145627]\n",
      "  [2.73416771]]\n",
      "\n",
      " [[4.18978391]\n",
      "  [2.73378016]]\n",
      "\n",
      " [[4.19000137]\n",
      "  [2.73381258]]]\n"
     ]
    }
   ],
   "source": [
    "for epoch in range(n_epochs):\n",
    "    for i in range(m):\n",
    "        random_index = np.random.randint(m)\n",
    "        xi = X_b[random_index:random_index+1]\n",
    "        yi = y[random_index:random_index+1]\n",
    "        gradients = 2 * xi.T.dot(xi.dot(theta_sgd) - yi)\n",
    "        lr = learning_schedule(epoch * m + i)\n",
    "        theta_sgd = theta_sgd - lr * gradients\n",
    "        theta_sgd_path.append(theta_sgd)\n",
    "\n",
    "theta_sgd_path = np.array(theta_sgd_path)\n",
    "print(theta_sgd_path)"
   ]
  }
 ],
 "metadata": {
  "kernelspec": {
   "display_name": "venv",
   "language": "python",
   "name": "python3"
  },
  "language_info": {
   "codemirror_mode": {
    "name": "ipython",
    "version": 3
   },
   "file_extension": ".py",
   "mimetype": "text/x-python",
   "name": "python",
   "nbconvert_exporter": "python",
   "pygments_lexer": "ipython3",
   "version": "3.11.9"
  }
 },
 "nbformat": 4,
 "nbformat_minor": 2
}
